{
 "cells": [
  {
   "cell_type": "code",
   "execution_count": 178,
   "id": "8d9f684e",
   "metadata": {},
   "outputs": [],
   "source": [
    "from skimage import io\n",
    "import os\n",
    "import cv2\n",
    "import glob\n",
    "import numpy as np\n",
    "import matplotlib.pyplot as plt"
   ]
  },
  {
   "cell_type": "code",
   "execution_count": 179,
   "id": "03ba3fe5",
   "metadata": {},
   "outputs": [],
   "source": [
    "def brightness_error(inputs_path, outputs_path):\n",
    "    \n",
    "    inputs = order_files(inputs_path)\n",
    "    outputs = order_files(outputs_path)\n",
    "    \n",
    "    \n",
    "    input_images = [cv2.imread(file, cv2.IMREAD_GRAYSCALE) for file in inputs]\n",
    "    output_images = [cv2.imread(file, cv2.IMREAD_GRAYSCALE) for file in outputs]\n",
    "    \n",
    "    aambe = 0\n",
    "    size = len(inputs)\n",
    "    \n",
    "    for i in range(size):\n",
    "        aambe = aambe + abs(np.mean(input_images[i]) - np.mean(output_images[i]))\n",
    "    \n",
    "    return aambe/size"
   ]
  },
  {
   "cell_type": "code",
   "execution_count": 219,
   "id": "509457d3",
   "metadata": {},
   "outputs": [],
   "source": [
    "def lightness_order_error(intputs_path, outputs_path):\n",
    "    \n",
    "    inputs = []\n",
    "    outputs = []\n",
    "    \n",
    "    inputs = order_files(inputs_path)\n",
    "    outputs = order_files(outputs_path)\n",
    "    \n",
    "    \n",
    "    input_images = [cv2.imread(file, 1) for file in inputs]\n",
    "    output_images = [cv2.imread(file, 1) for file in outputs]\n",
    "    \n",
    "    \n",
    "    results = []\n",
    "    size = len(inputs)\n",
    "    \n",
    "    for i in range(size):\n",
    "        N, M, n, = input_images[i].shape\n",
    "        r = 50 / min (M,N);\n",
    "        \n",
    "        Md = (np.ceil(N / round(M * r))).astype('int');\n",
    "        Nd = (np.ceil(M / round(N * r))).astype('int');\n",
    "        \n",
    "        L = input_images[i].max(axis = 2)\n",
    "        Le = output_images[i].max(axis = 2)\n",
    "        \n",
    "        L = L[::Nd, ::Md]\n",
    "        Le = Le[::Nd, ::Md]\n",
    "    \n",
    "        rd = np.zeros((Nd, Md))\n",
    "       \n",
    "        for x in range(Nd):\n",
    "            for y in range(Md):\n",
    "                E = np.logical_xor(L[x,y] >= L[:,:], Le[x,y] >= Le[:,:])\n",
    "                rd[x,y] = np.sum(E)\n",
    "        \n",
    "        loe = np.sum(rd) / (Md*Nd)\n",
    "        results.append(loe)\n",
    "    \n",
    "    return sum(results)/len(results)"
   ]
  },
  {
   "cell_type": "code",
   "execution_count": 220,
   "id": "8b632a55",
   "metadata": {},
   "outputs": [],
   "source": [
    "def order_files(file_path):\n",
    "    \n",
    "    inputs = []\n",
    "    ext = ['png', 'jpg'] \n",
    "    [inputs.extend(glob.glob(file_path + '*.' + e)) for e in ext]\n",
    "    \n",
    "    return sorted(inputs)"
   ]
  },
  {
   "cell_type": "code",
   "execution_count": 233,
   "id": "2ce02341",
   "metadata": {},
   "outputs": [
    {
     "name": "stdout",
     "output_type": "stream",
     "text": [
      "AAMBE RESULTS\n",
      "--------------------\n",
      "BDPHE: 12.4564474098902\n",
      "HE: 75.43680299025057\n",
      "Retinex: 77.20720325629709\n"
     ]
    }
   ],
   "source": [
    "inputs_path = \"/Users/erenberkedemirbas/Documents/COMP427/project2/Test Inputs/\"\n",
    "outputs_path = \"/Users/erenberkedemirbas/Documents/COMP427/project2/Test Outputs/BPDHE/\"\n",
    "print(\"AAMBE RESULTS\\n--------------------\")\n",
    "result = brightness_error(inputs_path, outputs_path)\n",
    "print(\"BDPHE: \" + str(result))\n",
    "\n",
    "inputs_path2 = \"/Users/erenberkedemirbas/Documents/COMP427/project2/Test Inputs/\"\n",
    "outputs_path2 = \"/Users/erenberkedemirbas/Documents/COMP427/project2/Test Outputs/HE/\"\n",
    "\n",
    "result2 = brightness_error(inputs_path2, outputs_path2)\n",
    "print(\"HE: \" + str(result2))\n",
    "\n",
    "inputs_path3 = \"/Users/erenberkedemirbas/Documents/COMP427/project2/Test Inputs/\"\n",
    "outputs_path3 = \"/Users/erenberkedemirbas/Documents/COMP427/project2/Test Outputs/Retinex/\"\n",
    "\n",
    "result = brightness_error(inputs_path3, outputs_path3)\n",
    "print(\"Retinex: \" + str(result3))"
   ]
  },
  {
   "cell_type": "code",
   "execution_count": 234,
   "id": "d8d355e9",
   "metadata": {},
   "outputs": [
    {
     "name": "stdout",
     "output_type": "stream",
     "text": [
      "LOE RESULTS\n",
      "--------------------\n",
      "BDPHE: 123.65684193121692\n",
      "HE: 494.56012830687837\n",
      "Retinex: 329.2228988095238\n"
     ]
    }
   ],
   "source": [
    "inputs_path = \"/Users/erenberkedemirbas/Documents/COMP427/project2/Test Inputs/\"\n",
    "outputs_path = \"/Users/erenberkedemirbas/Documents/COMP427/project2/Test Outputs/BPDHE/\"\n",
    "print(\"LOE RESULTS\\n--------------------\")\n",
    "result = lightness_order_error(inputs_path, outputs_path)\n",
    "print(\"BDPHE: \" + str(result))\n",
    "\n",
    "inputs_path2 = \"/Users/erenberkedemirbas/Documents/COMP427/project2/Test Inputs/\"\n",
    "outputs_path2 = \"/Users/erenberkedemirbas/Documents/COMP427/project2/Test Outputs/HE/\"\n",
    "\n",
    "result2 = lightness_order_error(inputs_path2, outputs_path2)\n",
    "print(\"HE: \" + str(result2))\n",
    "\n",
    "inputs_path3 = \"/Users/erenberkedemirbas/Documents/COMP427/project2/Test Inputs/\"\n",
    "outputs_path3 = \"/Users/erenberkedemirbas/Documents/COMP427/project2/Test Outputs/Retinex/\"\n",
    "\n",
    "result3 = lightness_order_error(inputs_path3, outputs_path3)\n",
    "print(\"Retinex: \" + str(result3))"
   ]
  },
  {
   "cell_type": "code",
   "execution_count": 212,
   "id": "cfff18dc",
   "metadata": {},
   "outputs": [],
   "source": [
    "a = np.random.rand(60,50,3)"
   ]
  },
  {
   "cell_type": "code",
   "execution_count": 213,
   "id": "15bafef5",
   "metadata": {},
   "outputs": [
    {
     "data": {
      "text/plain": [
       "(60, 50, 3)"
      ]
     },
     "execution_count": 213,
     "metadata": {},
     "output_type": "execute_result"
    }
   ],
   "source": [
    "a.shape"
   ]
  },
  {
   "cell_type": "code",
   "execution_count": 214,
   "id": "f89b2678",
   "metadata": {},
   "outputs": [],
   "source": [
    "a = a[::2,::7]"
   ]
  },
  {
   "cell_type": "code",
   "execution_count": 215,
   "id": "4f012d9f",
   "metadata": {},
   "outputs": [
    {
     "data": {
      "text/plain": [
       "(30, 8, 3)"
      ]
     },
     "execution_count": 215,
     "metadata": {},
     "output_type": "execute_result"
    }
   ],
   "source": [
    "a.shape"
   ]
  },
  {
   "cell_type": "code",
   "execution_count": 200,
   "id": "7c1c0832",
   "metadata": {},
   "outputs": [],
   "source": [
    "b = np.arange(60)"
   ]
  },
  {
   "cell_type": "code",
   "execution_count": 211,
   "id": "136e2c86",
   "metadata": {},
   "outputs": [
    {
     "data": {
      "text/plain": [
       "7.142857142857143"
      ]
     },
     "execution_count": 211,
     "metadata": {},
     "output_type": "execute_result"
    }
   ],
   "source": [
    "50/7"
   ]
  },
  {
   "cell_type": "code",
   "execution_count": null,
   "id": "f379bb74",
   "metadata": {},
   "outputs": [],
   "source": []
  }
 ],
 "metadata": {
  "kernelspec": {
   "display_name": "Python 3 (ipykernel)",
   "language": "python",
   "name": "python3"
  },
  "language_info": {
   "codemirror_mode": {
    "name": "ipython",
    "version": 3
   },
   "file_extension": ".py",
   "mimetype": "text/x-python",
   "name": "python",
   "nbconvert_exporter": "python",
   "pygments_lexer": "ipython3",
   "version": "3.10.9"
  }
 },
 "nbformat": 4,
 "nbformat_minor": 5
}
